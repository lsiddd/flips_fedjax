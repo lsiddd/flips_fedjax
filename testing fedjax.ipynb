{
 "cells": [
  {
   "cell_type": "code",
   "execution_count": 3,
   "id": "d3f586f3-60d7-4ba6-a720-5374f9696f52",
   "metadata": {},
   "outputs": [],
   "source": [
    "import fedjax\n",
    "from fedjax import datasets\n",
    "import jax"
   ]
  },
  {
   "cell_type": "code",
   "execution_count": 4,
   "id": "b7c3ede5-bffb-4b3c-85c2-56ad27e9ba27",
   "metadata": {},
   "outputs": [
    {
     "data": {
      "text/plain": [
       "['DictKey',\n",
       " 'FlattenedIndexKey',\n",
       " 'GetAttrKey',\n",
       " 'KeyEntry',\n",
       " 'KeyPath',\n",
       " 'Partial',\n",
       " 'PyTreeDef',\n",
       " 'SequenceKey',\n",
       " '__builtins__',\n",
       " '__cached__',\n",
       " '__doc__',\n",
       " '__file__',\n",
       " '__loader__',\n",
       " '__name__',\n",
       " '__package__',\n",
       " '__spec__',\n",
       " 'all_leaves',\n",
       " 'build_tree',\n",
       " 'default_registry',\n",
       " 'keystr',\n",
       " 'register_dataclass',\n",
       " 'register_pytree_node',\n",
       " 'register_pytree_node_class',\n",
       " 'register_pytree_with_keys',\n",
       " 'register_pytree_with_keys_class',\n",
       " 'register_static',\n",
       " 'tree_all',\n",
       " 'tree_flatten',\n",
       " 'tree_flatten_with_path',\n",
       " 'tree_leaves',\n",
       " 'tree_leaves_with_path',\n",
       " 'tree_map',\n",
       " 'tree_map_with_path',\n",
       " 'tree_reduce',\n",
       " 'tree_structure',\n",
       " 'tree_transpose',\n",
       " 'tree_unflatten',\n",
       " 'treedef_children',\n",
       " 'treedef_is_leaf',\n",
       " 'treedef_tuple']"
      ]
     },
     "execution_count": 4,
     "metadata": {},
     "output_type": "execute_result"
    }
   ],
   "source": [
    "dir(jax.tree_util)"
   ]
  }
 ],
 "metadata": {
  "kernelspec": {
   "display_name": "Python 3 (ipykernel)",
   "language": "python",
   "name": "python3"
  },
  "language_info": {
   "codemirror_mode": {
    "name": "ipython",
    "version": 3
   },
   "file_extension": ".py",
   "mimetype": "text/x-python",
   "name": "python",
   "nbconvert_exporter": "python",
   "pygments_lexer": "ipython3",
   "version": "3.12.7"
  }
 },
 "nbformat": 4,
 "nbformat_minor": 5
}
